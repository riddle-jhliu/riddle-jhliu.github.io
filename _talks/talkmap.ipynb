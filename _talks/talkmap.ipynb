{
 "cells": [
  {
   "cell_type": "markdown",
   "metadata": {},
   "source": [
    "# Leaflet cluster map of talk locations\n",
    "\n",
    "Run this from the _talks/ directory, which contains .md files of all your talks. This scrapes the location YAML field from each .md file, geolocates it with geopy/Nominatim, and uses the getorg library to output data, HTML, and Javascript for a standalone cluster map."
   ]
  },
  {
   "cell_type": "code",
   "execution_count": 1,
   "metadata": {
    "collapsed": false
   },
   "outputs": [
    {
     "name": "stdout",
     "output_type": "stream",
     "text": [
      "Requirement already satisfied: getorg in c:\\users\\74759\\.conda\\envs\\jupyter\\lib\\site-packages (0.3.1)\n",
      "Requirement already satisfied: geopy in c:\\users\\74759\\.conda\\envs\\jupyter\\lib\\site-packages (from getorg) (2.4.0)\n",
      "Requirement already satisfied: pygithub in c:\\users\\74759\\.conda\\envs\\jupyter\\lib\\site-packages (from getorg) (1.59.1)\n",
      "Requirement already satisfied: retrying in c:\\users\\74759\\.conda\\envs\\jupyter\\lib\\site-packages (from getorg) (1.3.4)\n",
      "Requirement already satisfied: geographiclib<3,>=1.52 in c:\\users\\74759\\.conda\\envs\\jupyter\\lib\\site-packages (from geopy->getorg) (2.0)\n",
      "Requirement already satisfied: deprecated in c:\\users\\74759\\.conda\\envs\\jupyter\\lib\\site-packages (from pygithub->getorg) (1.2.14)\n",
      "Requirement already satisfied: pyjwt[crypto]>=2.4.0 in c:\\users\\74759\\.conda\\envs\\jupyter\\lib\\site-packages (from pygithub->getorg) (2.8.0)\n",
      "Requirement already satisfied: pynacl>=1.4.0 in c:\\users\\74759\\.conda\\envs\\jupyter\\lib\\site-packages (from pygithub->getorg) (1.5.0)\n",
      "Requirement already satisfied: requests>=2.14.0 in c:\\users\\74759\\.conda\\envs\\jupyter\\lib\\site-packages (from pygithub->getorg) (2.31.0)\n",
      "Requirement already satisfied: six>=1.7.0 in c:\\users\\74759\\.conda\\envs\\jupyter\\lib\\site-packages (from retrying->getorg) (1.16.0)\n",
      "Requirement already satisfied: cryptography>=3.4.0 in c:\\users\\74759\\.conda\\envs\\jupyter\\lib\\site-packages (from pyjwt[crypto]>=2.4.0->pygithub->getorg) (41.0.4)\n",
      "Requirement already satisfied: cffi>=1.4.1 in c:\\users\\74759\\.conda\\envs\\jupyter\\lib\\site-packages (from pynacl>=1.4.0->pygithub->getorg) (1.15.1)\n",
      "Requirement already satisfied: charset-normalizer<4,>=2 in c:\\users\\74759\\.conda\\envs\\jupyter\\lib\\site-packages (from requests>=2.14.0->pygithub->getorg) (3.2.0)\n",
      "Requirement already satisfied: idna<4,>=2.5 in c:\\users\\74759\\.conda\\envs\\jupyter\\lib\\site-packages (from requests>=2.14.0->pygithub->getorg) (3.4)\n",
      "Requirement already satisfied: urllib3<3,>=1.21.1 in c:\\users\\74759\\.conda\\envs\\jupyter\\lib\\site-packages (from requests>=2.14.0->pygithub->getorg) (2.0.4)\n",
      "Requirement already satisfied: certifi>=2017.4.17 in c:\\users\\74759\\.conda\\envs\\jupyter\\lib\\site-packages (from requests>=2.14.0->pygithub->getorg) (2023.7.22)\n",
      "Requirement already satisfied: wrapt<2,>=1.10 in c:\\users\\74759\\.conda\\envs\\jupyter\\lib\\site-packages (from deprecated->pygithub->getorg) (1.15.0)\n",
      "Requirement already satisfied: pycparser in c:\\users\\74759\\.conda\\envs\\jupyter\\lib\\site-packages (from cffi>=1.4.1->pynacl>=1.4.0->pygithub->getorg) (2.21)\n",
      "Iywidgets and ipyleaflet support disabled. You must be in a Jupyter notebook to use this feature.\n",
      "Error raised:\n",
      "No module named 'ipyleaflet'\n",
      "Check that you have enabled ipyleaflet in Jupyter with:\n",
      "    jupyter nbextension enable --py ipyleaflet\n"
     ]
    }
   ],
   "source": [
    "!pip install getorg --upgrade\n",
    "import glob\n",
    "import getorg\n",
    "from geopy import Nominatim"
   ]
  },
  {
   "cell_type": "code",
   "execution_count": 2,
   "metadata": {
    "collapsed": false
   },
   "outputs": [],
   "source": [
    "g = glob.glob(\"*.md\")"
   ]
  },
  {
   "cell_type": "code",
   "execution_count": 3,
   "metadata": {
    "collapsed": true
   },
   "outputs": [],
   "source": [
    "geocoder =  Nominatim(user_agent='jhliu')\n",
    "# geocoder =  Nominatim(user_agent='BuyiXiao')\n",
    "location_dict = {}\n",
    "location = \"\"\n",
    "permalink = \"\"\n",
    "title = \"\""
   ]
  },
  {
   "cell_type": "code",
   "execution_count": 4,
   "metadata": {
    "collapsed": false
   },
   "outputs": [
    {
     "name": "stdout",
     "output_type": "stream",
     "text": [
      "Beijing, China \n",
      " 北京市, 中国\n",
      "Xi'an, China \n",
      " 西安市, 陕西省, 中国\n",
      "Yokohama, Japen \n",
      " None\n",
      "Shenzhen, China \n",
      " 汕尾市, 广东省, 中国\n",
      "Ho Chi Minh City, Vietnam \n",
      " Thành phố Hồ Chí Minh, Việt Nam\n",
      "Dalian, China \n",
      " 大连市, 中山区, 大连市, 辽宁省, 116001, 中国\n"
     ]
    }
   ],
   "source": [
    "\n",
    "# location_dict = {}\n",
    "\n",
    "# for file in g:\n",
    "#     with open(file, 'r') as f:\n",
    "#         lines = f.read()\n",
    "#         if lines.find('location: \"') > 1:\n",
    "#             loc_start = lines.find('location: \"') + 11\n",
    "#             lines_trim = lines[loc_start:]\n",
    "#             loc_end = lines_trim.find('\"')\n",
    "#             location = lines_trim[:loc_end]\n",
    "\n",
    "#             try:\n",
    "#                 location_dict[location] = geocoder.geocode(location)\n",
    "#                 print(location, \"\\n\", location_dict[location])\n",
    "#             except geocoder.GeocoderTimedOut:\n",
    "#                 print(\"地理编码服务连接超时，无法获取地理编码结果。\")\n",
    "\n",
    "for file in g:\n",
    "    with open(file, 'r') as f:\n",
    "        lines = f.read()\n",
    "        if lines.find('location: \"') > 1:\n",
    "            loc_start = lines.find('location: \"') + 11\n",
    "            lines_trim = lines[loc_start:]\n",
    "            loc_end = lines_trim.find('\"')\n",
    "            location = lines_trim[:loc_end]\n",
    "                            \n",
    "           \n",
    "        location_dict[location] = geocoder.geocode(location)\n",
    "        print(location, \"\\n\", location_dict[location])\n"
   ]
  },
  {
   "cell_type": "code",
   "execution_count": 6,
   "metadata": {
    "collapsed": false
   },
   "outputs": [
    {
     "data": {
      "text/plain": [
       "'Written map to ../talkmap/'"
      ]
     },
     "execution_count": 6,
     "metadata": {},
     "output_type": "execute_result"
    }
   ],
   "source": [
    "m = getorg.orgmap.create_map_obj()\n",
    "getorg.orgmap.output_html_cluster_map(location_dict, folder_name=\"../talkmap\", hashed_usernames=False)"
   ]
  },
  {
   "cell_type": "code",
   "execution_count": null,
   "metadata": {
    "collapsed": true
   },
   "outputs": [],
   "source": []
  }
 ],
 "metadata": {
  "anaconda-cloud": {},
  "kernelspec": {
   "display_name": "jupyter",
   "language": "python",
   "name": "python3"
  },
  "language_info": {
   "codemirror_mode": {
    "name": "ipython",
    "version": 3
   },
   "file_extension": ".py",
   "mimetype": "text/x-python",
   "name": "python",
   "nbconvert_exporter": "python",
   "pygments_lexer": "ipython3",
   "version": "3.10.12"
  }
 },
 "nbformat": 4,
 "nbformat_minor": 0
}
